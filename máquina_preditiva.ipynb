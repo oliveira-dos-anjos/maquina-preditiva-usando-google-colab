{
  "nbformat": 4,
  "nbformat_minor": 0,
  "metadata": {
    "colab": {
      "provenance": [],
      "authorship_tag": "ABX9TyNREHqW4v/eIqP3g3oLSiV6",
      "include_colab_link": true
    },
    "kernelspec": {
      "name": "python3",
      "display_name": "Python 3"
    },
    "language_info": {
      "name": "python"
    }
  },
  "cells": [
    {
      "cell_type": "markdown",
      "metadata": {
        "id": "view-in-github",
        "colab_type": "text"
      },
      "source": [
        "<a href=\"https://colab.research.google.com/github/oliveira-dos-anjos/usando-google-colab/blob/main/m%C3%A1quina_preditiva.ipynb\" target=\"_parent\"><img src=\"https://colab.research.google.com/assets/colab-badge.svg\" alt=\"Open In Colab\"/></a>"
      ]
    },
    {
      "cell_type": "markdown",
      "source": [
        "*Nesta coluna é criado um arquivo de teste com dados sintéticos de um cliente.*"
      ],
      "metadata": {
        "id": "c9FWc3cqVXH9"
      }
    },
    {
      "cell_type": "code",
      "source": [
        "import pandas as pd\n",
        "import numpy as np\n",
        "import random\n",
        "\n",
        "\n",
        "# Gerando dados sintéticos de clientes\n",
        "n = 20\n",
        "idade = np.random.randint(18, 80, n)\n",
        "sexo = np.random.choice(['Feminino', 'Masculino'], n)\n",
        "salario = np.round(np.random.normal(5000, 1500, n), 2)\n",
        "score_de_credito = np.random.randint(300, 850, n)\n",
        "\n",
        "\n",
        "# Criando um dataframe com os dados sintéticos\n",
        "dados = pd.DataFrame({'Idade': idade, 'Sexo': sexo, 'Salario':salario, 'Score_de_Credito': score_de_credito})\n",
        "\n",
        "\n",
        "# Salvando os dados em um arquivo CSV\n",
        "dados.to_csv('dados_clientes.csv', index=False)\n",
        "\n",
        "# Exibindo os primeiros registros do dataframe\n",
        "print(f\"{dados.head()}\")\n",
        "\n"
      ],
      "metadata": {
        "id": "x0ZSeZERuZXw",
        "outputId": "724a9479-f24e-4687-9777-ad9ba44984e6",
        "colab": {
          "base_uri": "https://localhost:8080/"
        }
      },
      "execution_count": null,
      "outputs": [
        {
          "output_type": "stream",
          "name": "stdout",
          "text": [
            "   Idade       Sexo  Salario  Score_de_Credito\n",
            "0     55   Feminino  5697.89               579\n",
            "1     59   Feminino  4907.08               798\n",
            "2     52  Masculino  3519.66               568\n",
            "3     66  Masculino  4469.17               617\n",
            "4     69  Masculino  3749.99               632\n"
          ]
        }
      ]
    },
    {
      "cell_type": "markdown",
      "source": [
        "*Essa é a maquina preditiva para verificar as chances de ser um bom pagador.*\n",
        "continue dando play para executar o proximo individuo"
      ],
      "metadata": {
        "id": "4oPCLbkmVWL9"
      }
    },
    {
      "cell_type": "code",
      "source": [
        "# Importando as bibliotecas necessárias\n",
        "import pandas as pd\n",
        "from sklearn.linear_model import LogisticRegression\n",
        "from sklearn.model_selection import train_test_split\n",
        "from sklearn.metrics import accuracy_score\n",
        "from sklearn.preprocessing import StandardScaler\n",
        "\n",
        "# Carregando os dados em um dataframe do pandas\n",
        "df = pd.read_csv('dados_clientes.csv')\n",
        "\n",
        "# Removendo valores faltantes\n",
        "df = df.dropna()\n",
        "\n",
        "\n",
        "# Codificando a variável categórica sexo em uma variável numérica\n",
        "df['Sexo'] = df['Sexo'].apply(lambda x: 1 if x == 'Masculino' else 0)\n",
        "\n",
        "# Criar a coluna \"bom_pagador\" com valores aleatórios 0 ou 1\n",
        "df['bom_pagador'] = np.random.randint(0, 2, size=len(df))\n",
        "\n",
        "\n",
        "# Separando os dados em variáveis independentes (X) e variável dependente (y)\n",
        "X = df[['Idade', 'Sexo', 'Salario', 'Score_de_Credito']]\n",
        "y = df['bom_pagador']\n",
        "\n",
        "print\n",
        "\n",
        "# Normalizando os dados\n",
        "scaler = StandardScaler()\n",
        "X = scaler.fit_transform(X)\n",
        "\n",
        "# Dividindo os dados em conjuntos de treinamento e teste\n",
        "X_train, X_test, y_train, y_test = train_test_split(X, y, test_size=0.3, random_state=0)\n",
        "\n",
        "# Criando o modelo de Regressão Logística\n",
        "model = LogisticRegression(random_state=0)\n",
        "\n",
        "# Ajustando o modelo aos dados de treinamento\n",
        "model.fit(X_train, y_train)\n",
        "\n",
        "# Fazendo previsões sobre os dados de teste\n",
        "y_pred = model.predict(X_test)\n",
        "\n",
        "# Avaliando a precisão do modelo\n",
        "accuracy = accuracy_score(y_test, y_pred)\n",
        "print('A precisão do modelo é de: {:.2f}%'.format(accuracy*100))\n",
        "\n",
        "# Fazendo uma previsão sobre uma nova pessoa\n",
        "new_data = scaler.transform([[35, 1, 5000, 700]])\n",
        "prediction = model.predict_proba(new_data)[0][1]\n",
        "print('\\033[35mA probabilidade de essa pessoa ser uma boa pagadora é de: {:.2f}%'.format(prediction*100))"
      ],
      "metadata": {
        "id": "OrDNIrWVsrAi"
      },
      "execution_count": null,
      "outputs": []
    }
  ]
}